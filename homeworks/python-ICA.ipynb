{
 "cells": [
  {
   "cell_type": "markdown",
   "metadata": {},
   "source": [
    "# In Class Activity - Python"
   ]
  },
  {
   "cell_type": "markdown",
   "metadata": {},
   "source": [
    "In this notebook we will try to put some of the Python knowledge you acquired into use.  For each exercise, you will see some code that has some bugs or asks you to write a little program.  Simply fix the code cell to make code that runs correctly, or write the code to specification.  Then add a markdown cell below your answer that says what you changed and why, or explains what your code is doing in English."
   ]
  },
  {
   "cell_type": "markdown",
   "metadata": {},
   "source": [
    "## Importing and using existing functions"
   ]
  },
  {
   "cell_type": "markdown",
   "metadata": {},
   "source": [
    "### Problem 0: Random number generation"
   ]
  },
  {
   "cell_type": "markdown",
   "metadata": {},
   "source": [
    "The following code imports the random number functionality in Python from the `numpy` library and uses to do generate random numbers.  Why won't this code run?"
   ]
  },
  {
   "cell_type": "code",
   "execution_count": 3,
   "metadata": {},
   "outputs": [
    {
     "name": "stdout",
     "output_type": "stream",
     "text": [
      "My random number is  0.7450086630917402\n"
     ]
    }
   ],
   "source": [
    "import numpy.random as npr\n",
    "\n",
    "print(\"My random number is \", npr.random())"
   ]
  },
  {
   "cell_type": "markdown",
   "metadata": {},
   "source": [
    "The library name used is not the same as the one imported."
   ]
  },
  {
   "cell_type": "markdown",
   "metadata": {},
   "source": [
    "### Problem 1: Random sample"
   ]
  },
  {
   "cell_type": "markdown",
   "metadata": {},
   "source": [
    "The next line chooses a random sample of 5 elements from a list.  What is wrong here?"
   ]
  },
  {
   "cell_type": "code",
   "execution_count": 7,
   "metadata": {},
   "outputs": [
    {
     "data": {
      "text/plain": [
       "array([42,  0, 57, 65, 55, 13, 26, 30,  4, 74])"
      ]
     },
     "execution_count": 7,
     "metadata": {},
     "output_type": "execute_result"
    }
   ],
   "source": [
    "import numpy.random as npr\n",
    "\n",
    "my_list = list(range(100))\n",
    "               \n",
    "npr.choice(my_list,size=10,replace=False)"
   ]
  },
  {
   "cell_type": "markdown",
   "metadata": {},
   "source": [
    "1. Missing closing parentheses.\n",
    "2. \"replace\" instead of \"replay.\""
   ]
  },
  {
   "cell_type": "markdown",
   "metadata": {},
   "source": [
    "### Problem 2: Looking things up"
   ]
  },
  {
   "cell_type": "markdown",
   "metadata": {},
   "source": [
    "In the above example when you get it to work what does the `choice()` function do?  The documentation for this function is available by googling for \"numpy.random choice\".  Add your answer in a cell below.  Then look up the `random()` function used in Problem 0.  What does it do?"
   ]
  },
  {
   "cell_type": "markdown",
   "metadata": {},
   "source": [
    "The `choice()` function returns a randomly selected element from the specified sequence, which can be a list, a tuple, or a range of numbers etc. The `random()` function returns a random float number between `0.0` and `1.0`."
   ]
  },
  {
   "cell_type": "markdown",
   "metadata": {},
   "source": [
    "## Writing a function"
   ]
  },
  {
   "cell_type": "markdown",
   "metadata": {},
   "source": [
    "In the problem that remain you will need to write little function that accomplish various goals.  Let's verify your understanding of functions."
   ]
  },
  {
   "cell_type": "markdown",
   "metadata": {},
   "source": [
    "### Problem 3: Defining a function"
   ]
  },
  {
   "cell_type": "markdown",
   "metadata": {},
   "source": [
    "What does this function do?  Write a new cell below the function definition that calls the function using five different inputs and verify the outputs match your expectation."
   ]
  },
  {
   "cell_type": "code",
   "execution_count": 8,
   "metadata": {},
   "outputs": [],
   "source": [
    "def my_function(x, y):\n",
    "    return x+y"
   ]
  },
  {
   "cell_type": "code",
   "execution_count": 9,
   "metadata": {},
   "outputs": [
    {
     "name": "stdout",
     "output_type": "stream",
     "text": [
      "3\n",
      "5\n",
      "23\n",
      "27\n",
      "17\n"
     ]
    }
   ],
   "source": [
    "print(my_function(1, 2))\n",
    "print(my_function(2, 3))\n",
    "print(my_function(11, 12))\n",
    "print(my_function(23, 4))\n",
    "print(my_function(10, 7))"
   ]
  },
  {
   "cell_type": "markdown",
   "metadata": {},
   "source": [
    "The function should return the total of two input arguments and the outputs match my expectation."
   ]
  },
  {
   "cell_type": "markdown",
   "metadata": {},
   "source": [
    "### Problem 4: What is not great about this function?"
   ]
  },
  {
   "cell_type": "markdown",
   "metadata": {},
   "source": [
    "This function works but is not ideal, why?"
   ]
  },
  {
   "cell_type": "code",
   "execution_count": null,
   "metadata": {},
   "outputs": [],
   "source": [
    "def my_function_2(x, y, z):\n",
    "    return x+y"
   ]
  },
  {
   "cell_type": "markdown",
   "metadata": {},
   "source": [
    "Argument *z* is not used."
   ]
  },
  {
   "cell_type": "markdown",
   "metadata": {},
   "source": [
    "### Problem 5: Write you own function"
   ]
  },
  {
   "cell_type": "markdown",
   "metadata": {},
   "source": [
    "Write your own custom function named `catchy_name()` to write a program that takes as input two arguments which are assumed to be strings.  Return a new string which is the concatenations of the first two letters of each of the inputs.  e.g. \n",
    "```\n",
    "catchy_name(\"South\",\"Houston\") -> \"SoHo\"\n",
    "catchy_name(\"Jennifer\", \"Lopez\") -> \"JeLo\"\n",
    "```"
   ]
  },
  {
   "cell_type": "code",
   "execution_count": 10,
   "metadata": {},
   "outputs": [],
   "source": [
    "def catchy_name(a, b):\n",
    "    return a[:2] + b[:2]"
   ]
  },
  {
   "cell_type": "code",
   "execution_count": 11,
   "metadata": {},
   "outputs": [
    {
     "name": "stdout",
     "output_type": "stream",
     "text": [
      "PeJi\n"
     ]
    }
   ],
   "source": [
    "print(catchy_name('Peiling', 'Jiang'))"
   ]
  },
  {
   "cell_type": "markdown",
   "metadata": {},
   "source": [
    "My function slices the first two letters of each string first, then adds them together."
   ]
  },
  {
   "cell_type": "markdown",
   "metadata": {},
   "source": [
    "### Problem 6: Cat-Dog"
   ]
  },
  {
   "cell_type": "markdown",
   "metadata": {},
   "source": [
    "Write a function called `cat_dog` that returns True if a input string given has the word cat and dog an equal number of times.  For example, \n",
    "```\n",
    "cat_dog('catdog') # shoudl return True\n",
    "cat_dog('catcat') # should return false\n",
    "cat_dog('1cat1cadodog') # should return true\n",
    "```"
   ]
  },
  {
   "cell_type": "markdown",
   "metadata": {},
   "source": [
    "Google 'python count occurrences in string' to find a existing function of method that counts the number of times a substring appears in a string to get started."
   ]
  },
  {
   "cell_type": "code",
   "execution_count": 18,
   "metadata": {},
   "outputs": [],
   "source": [
    "def cat_dog(s):\n",
    "    return s.count('cat') == s.count('dog')"
   ]
  },
  {
   "cell_type": "code",
   "execution_count": 19,
   "metadata": {},
   "outputs": [
    {
     "name": "stdout",
     "output_type": "stream",
     "text": [
      "True\n",
      "False\n",
      "True\n"
     ]
    }
   ],
   "source": [
    "print(cat_dog('catdog'))\n",
    "print(cat_dog('catcat'))\n",
    "print(cat_dog('1cat1cadodog'))"
   ]
  },
  {
   "cell_type": "markdown",
   "metadata": {},
   "source": [
    "We count 'dog's and 'cat's and then compare if two numbers are equal."
   ]
  },
  {
   "cell_type": "markdown",
   "metadata": {},
   "source": [
    "## Lists"
   ]
  },
  {
   "cell_type": "markdown",
   "metadata": {},
   "source": [
    "### Problem 7: Summing"
   ]
  },
  {
   "cell_type": "markdown",
   "metadata": {},
   "source": [
    "Write a function call `summing()` that takes a list of numbers as input and return the sum of all the numbers.  Use a for loop to do this.\n",
    "\n",
    "```\n",
    "summing([1, 2, 3]) → 6\n",
    "summing([5, 11, 2]) → 18\n",
    "summing([7, 0, 0]) → 7\n",
    "```"
   ]
  },
  {
   "cell_type": "code",
   "execution_count": 2,
   "metadata": {},
   "outputs": [],
   "source": [
    "def summing(li):\n",
    "    total = 0\n",
    "    for l in li:\n",
    "        total += l\n",
    "    return total"
   ]
  },
  {
   "cell_type": "code",
   "execution_count": 4,
   "metadata": {},
   "outputs": [
    {
     "name": "stdout",
     "output_type": "stream",
     "text": [
      "6\n",
      "18\n",
      "7\n"
     ]
    }
   ],
   "source": [
    "print(summing([1, 2, 3]))\n",
    "print(summing([5, 11, 2]))\n",
    "print(summing([7, 0, 0]))"
   ]
  },
  {
   "cell_type": "markdown",
   "metadata": {},
   "source": [
    "We go through the list and add each item into 'total' then return it."
   ]
  },
  {
   "cell_type": "markdown",
   "metadata": {},
   "source": [
    "### Problem 8: Biggest difference"
   ]
  },
  {
   "cell_type": "markdown",
   "metadata": {},
   "source": [
    "\n",
    "Given an array length 1 or more of ints, return the difference between the largest and smallest values in the array. Note: the built-in min(v1, v2) and max(v1, v2) functions return the smaller or larger of two values.\n",
    "\n",
    "```\n",
    "big_diff([10, 3, 5, 6]) → 7\n",
    "big_diff([7, 2, 10, 9]) → 8\n",
    "big_diff([2, 10, 7, 2]) → 8\n",
    "```"
   ]
  },
  {
   "cell_type": "code",
   "execution_count": 29,
   "metadata": {},
   "outputs": [],
   "source": [
    "def big_diff(li):\n",
    "    min_num = float('inf')\n",
    "    max_num = -float('inf')\n",
    "    for i in li:\n",
    "        min_num = min(min_num, i)\n",
    "        max_num = max(max_num, i)\n",
    "    return max_num - min_num"
   ]
  },
  {
   "cell_type": "code",
   "execution_count": 30,
   "metadata": {},
   "outputs": [
    {
     "name": "stdout",
     "output_type": "stream",
     "text": [
      "7\n",
      "8\n",
      "8\n"
     ]
    }
   ],
   "source": [
    "print(big_diff([10, 3, 5, 6]))\n",
    "print(big_diff([7, 2, 10, 9]))\n",
    "print(big_diff([2, 10, 7, 2]))"
   ]
  },
  {
   "cell_type": "markdown",
   "metadata": {},
   "source": [
    "We go through the list and assign the larger numbers to *max_num* and smaller numbers to *min_num* until the maximum and minimum number, then return the difference between them."
   ]
  }
 ],
 "metadata": {
  "kernelspec": {
   "display_name": "Python 3",
   "language": "python",
   "name": "python3"
  },
  "language_info": {
   "codemirror_mode": {
    "name": "ipython",
    "version": 3
   },
   "file_extension": ".py",
   "mimetype": "text/x-python",
   "name": "python",
   "nbconvert_exporter": "python",
   "pygments_lexer": "ipython3",
   "version": "3.8.5"
  }
 },
 "nbformat": 4,
 "nbformat_minor": 4
}
