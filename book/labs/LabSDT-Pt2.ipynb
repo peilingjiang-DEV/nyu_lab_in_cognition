{
 "cells": [
  {
   "cell_type": "code",
   "execution_count": 1,
   "metadata": {
    "tags": [
     "hide_input"
    ]
   },
   "outputs": [],
   "source": [
    "from IPython.core.display import HTML, Markdown, display\n",
    "\n",
    "import numpy as np\n",
    "import numpy.random as npr\n",
    "import pandas as pd\n",
    "import seaborn as sns\n",
    "import matplotlib.pyplot as plt\n",
    "import scipy.stats as stats\n",
    "import statsmodels.formula.api as smf\n",
    "import pingouin as pg\n",
    "import math\n",
    "\n",
    "import ipywidgets as widgets\n",
    "\n",
    "import ipywidgets as widgets\n",
    "from IPython.display import display, Markdown, clear_output\n",
    "import numpy as np\n",
    "import pandas as pd\n",
    "from datetime import datetime\n",
    "from ipycanvas import Canvas, hold_canvas\n",
    "\n",
    "from sdt_exp import *\n",
    "\n",
    "# Enable plots inside the Jupyter Notebook\n",
    "%matplotlib inline"
   ]
  },
  {
   "cell_type": "markdown",
   "metadata": {},
   "source": [
    "# Signal detection: Part 2"
   ]
  },
  {
   "cell_type": "markdown",
   "metadata": {
    "tags": [
     "popout"
    ]
   },
   "source": [
    "Authored by *Todd Gureckis*."
   ]
  },
  {
   "cell_type": "markdown",
   "metadata": {},
   "source": [
    "In the previous lab you learned some of the basic analysis steps involved in signal detection analysis.  In particular, we learned how to compute a statistic we called d' (dprime) and c (bias/criterion).  These variables are commonly used in studies of perception to understand the performance of a subject on a task independent of their response bias (here meaning tendency to give a particular response).  \n",
    "\n",
    "In the second part of the lab we will analyze data from a simple detection experiment you will have just conducted on yourselves.  You will get to put your python knowledge into practice by reading in the data analyzing it. "
   ]
  },
  {
   "cell_type": "markdown",
   "metadata": {},
   "source": [
    "## The Experiment Instructions"
   ]
  },
  {
   "cell_type": "markdown",
   "metadata": {},
   "source": [
    "In this experiment you job will be similar to that of a doctor.  There are going to be small \"clusters\" of points which we might think of as a tumor or some other biological measurement.  You can use the interaction element below to examine a few of these \"clusters\".\n",
    "\n",
    "Try using the widget below to slide between a lot of dots within a cluster and a small number.  Sweep back and forth and get an idea of what a \"cluster\" could look like.  The dots are spread out to a certain degree as you can see more clearly with the large number of dots. "
   ]
  },
  {
   "cell_type": "code",
   "execution_count": 2,
   "metadata": {},
   "outputs": [
    {
     "data": {
      "application/vnd.jupyter.widget-view+json": {
       "model_id": "97c4820b88eb4d0893e02233f8ff3977",
       "version_major": 2,
       "version_minor": 0
      },
      "text/plain": [
       "interactive(children=(IntSlider(value=36, description='dots', max=75, min=1, step=5), Output()), _dom_classes=…"
      ]
     },
     "metadata": {},
     "output_type": "display_data"
    }
   ],
   "source": [
    "@widgets.interact(dots=(1, 75, 5))\n",
    "def draw(dots):\n",
    "    return draw_stimulus(include_source=True,\n",
    "                         n_background_dots=0,\n",
    "                         n_source_dots=dots,\n",
    "                         source_sd=10,\n",
    "                         source_border=20,\n",
    "                         width=400,\n",
    "                         height=400)"
   ]
  },
  {
   "cell_type": "markdown",
   "metadata": {},
   "source": [
    "The challenge is that these dots are going to be hidden in a background of \"noise\" which is other dots unrelated to the cluster.  Here is an example of the background with no cluster present:"
   ]
  },
  {
   "cell_type": "code",
   "execution_count": 3,
   "metadata": {},
   "outputs": [
    {
     "data": {
      "application/vnd.jupyter.widget-view+json": {
       "model_id": "530693c602c24c86bce7d11fba8fc98e",
       "version_major": 2,
       "version_minor": 0
      },
      "text/plain": [
       "Canvas(height=425, layout=Layout(grid_area='canvas'), width=425)"
      ]
     },
     "metadata": {},
     "output_type": "display_data"
    }
   ],
   "source": [
    "draw_stimulus(include_source=False,\n",
    "              n_background_dots=30 * 30,\n",
    "              n_source_dots=0,\n",
    "              source_sd=10,\n",
    "              source_border=20,\n",
    "              width=400,\n",
    "              height=400)"
   ]
  },
  {
   "cell_type": "markdown",
   "metadata": {},
   "source": [
    "You can run the above cell many times to see different example patterns when the cluster is absent.\n",
    "\n",
    "Next here is an example of a very large cluster hidden in the background noise:"
   ]
  },
  {
   "cell_type": "code",
   "execution_count": 4,
   "metadata": {},
   "outputs": [
    {
     "data": {
      "application/vnd.jupyter.widget-view+json": {
       "model_id": "2269ba27eb5048ee981ea66f5dada72c",
       "version_major": 2,
       "version_minor": 0
      },
      "text/plain": [
       "Canvas(height=425, layout=Layout(grid_area='canvas'), width=425)"
      ]
     },
     "metadata": {},
     "output_type": "display_data"
    }
   ],
   "source": [
    "draw_stimulus(include_source=True,\n",
    "              n_background_dots=30 * 30,\n",
    "              n_source_dots=60,\n",
    "              source_sd=10,\n",
    "              source_border=20,\n",
    "              width=400,\n",
    "              height=400)"
   ]
  },
  {
   "cell_type": "markdown",
   "metadata": {},
   "source": [
    "From this example you can see a very clear \"cluster\" or tumor in the stimulus.  Here is one where there is a cluster/tumor but it is a little less obvious:"
   ]
  },
  {
   "cell_type": "code",
   "execution_count": 5,
   "metadata": {},
   "outputs": [
    {
     "data": {
      "application/vnd.jupyter.widget-view+json": {
       "model_id": "3b4f72b8fb854acf9deaefb5956ed936",
       "version_major": 2,
       "version_minor": 0
      },
      "text/plain": [
       "Canvas(height=425, layout=Layout(grid_area='canvas'), width=425)"
      ]
     },
     "metadata": {},
     "output_type": "display_data"
    }
   ],
   "source": [
    "draw_stimulus(include_source=True,\n",
    "              n_background_dots=30 * 30,\n",
    "              n_source_dots=50,\n",
    "              source_sd=10,\n",
    "              source_border=20,\n",
    "              width=400,\n",
    "              height=400)"
   ]
  },
  {
   "cell_type": "markdown",
   "metadata": {},
   "source": [
    "Finally, here is one where it is pretty hard to tell that there is a cluster at all (oh but there is one involving only 20 dots!):"
   ]
  },
  {
   "cell_type": "code",
   "execution_count": 6,
   "metadata": {},
   "outputs": [
    {
     "data": {
      "application/vnd.jupyter.widget-view+json": {
       "model_id": "98f2ab3eedb74cfaa039ea705f920eab",
       "version_major": 2,
       "version_minor": 0
      },
      "text/plain": [
       "Canvas(height=425, layout=Layout(grid_area='canvas'), width=425)"
      ]
     },
     "metadata": {},
     "output_type": "display_data"
    }
   ],
   "source": [
    "draw_stimulus(include_source=True,\n",
    "              n_background_dots=30 * 30,\n",
    "              n_source_dots=20,\n",
    "              source_sd=10,\n",
    "              source_border=20,\n",
    "              width=400,\n",
    "              height=400)"
   ]
  },
  {
   "cell_type": "markdown",
   "metadata": {},
   "source": [
    "Your job in the experiment will be to view stimuli such as the ones above and judge if you think there is a cluster/tumor present in the image.  It can often be hard to tell because even in the random dots there can be little clusters of dots that group together.  Just try to do your best.  Notice that there is a red \"absent\" button and a green \"present\" button.  You should press \"absent\" if you think the cluster/tumor is not there, and press \"present\" if you think it is there.\n",
    "\n",
    "Before running the next cell set the subject number to your NYU netid (I will anonymize this later but will let me check that everyone has done the experiment)."
   ]
  },
  {
   "cell_type": "markdown",
   "metadata": {},
   "source": [
    "## Run the Experiment!"
   ]
  },
  {
   "cell_type": "code",
   "execution_count": 7,
   "metadata": {},
   "outputs": [
    {
     "name": "stdout",
     "output_type": "stream",
     "text": [
      "The experiment is finished!\n",
      "Data saved to .csv\n",
      "Also available as exp.trials\n",
      "-------------\n",
      "Thanks so much for your time!\n"
     ]
    }
   ],
   "source": [
    "subject_number = 'pj787'  # set your subject number here\n",
    "exp = Detection_Experiment(subject_number)\n",
    "exp.start_experiment()"
   ]
  },
  {
   "cell_type": "markdown",
   "metadata": {},
   "source": [
    "## Getting the data"
   ]
  },
  {
   "cell_type": "markdown",
   "metadata": {},
   "source": [
    "After you run the experiment, the data will be output to a .csv file tied to your subject number.  Also it is available as as pandas data frame in the current kernel environment as `exp.trials`:"
   ]
  },
  {
   "cell_type": "code",
   "execution_count": null,
   "metadata": {},
   "outputs": [],
   "source": [
    "exp.trials.head()"
   ]
  },
  {
   "cell_type": "markdown",
   "metadata": {},
   "source": [
    "## Experiment design\n",
    "\n",
    "In the experiment, you saw a number of trials where field of random colored and positioned dots appear.  On some trials a small \"cluster\" of points was added to the stimulus.  The number of dots in the cluster was manipulated across conditions so that it was more or less obvious that there was a cluster.  In some cases the number of dots within the cluster was so small that it was hard to detect it, but other cases it might have been more visually obvious.  This is very similar to the type of visual diagnosis that a doctor or airport screener might perform (deciding of a tumor or a gun is present in an image). Your task was to indicate if it was a \"stimulus/cluster present\" trial or a \"stimulus/cluster absent\" trial.  The computer recorded your response and your reaction time.\n",
    "\n",
    "An overview of the situation is shown here:"
   ]
  },
  {
   "cell_type": "markdown",
   "metadata": {},
   "source": [
    "### The things we manipulated!\n",
    "\n",
    "There were actually four different types of clusters shown on any given \"stimulus present\" trial. One was a **small** stimulus made up of 10 dots, one was a medium made up of 15 dots, one type of made up of 25, and finally one was  made up of 60 dots:\n",
    "\n",
    "<center>\n",
    "<img src=\"images/dots.png\" width=\"900\">\n",
    "</center>\n",
    "\n",
    "As the number of dots increases the general visibility of the cluster becomes more clear and easier to detect.\n",
    "\n",
    "In total there were 100 stimulus absent trials and 25 of each of the four types of stimulus present trials.  The purpose of this was so that a perfect subject with robot-quality vision would say \"yes\" half the time in the experiment so there is no overall bias toward one response.\n",
    "\n",
    "In this lab we are interested in analyzing the effect of strength of the stimulus cluster (i.e., number of dots) on the two signal detection variables we learned about in the previous lecture and lab."
   ]
  },
  {
   "cell_type": "markdown",
   "metadata": {},
   "source": [
    "## Analysis Steps\n"
   ]
  },
  {
   "cell_type": "markdown",
   "metadata": {},
   "source": [
    "Remember from the previous lab that our model for signal detection looks something like this:\n",
    "<img src=\"http://gru.stanford.edu/lib/exe/fetch.php/tutorials/nobias.png?w=&h=&cache=cache\">\n",
    "\n",
    "and we showed how we can compute $d'$ and $c$ by computing only the number of false alarms and hits and subjecting those to a particular mathematical transformation.  In this case we actually have four stimulus conditions (10, 15, 25, or 60).  So our goal will be to compute the hits and false alarms **separately** for the two different types of stimuli.  This will mean that each person in our experiment will be described by eight numbers:\n",
    "\n",
    "- A d' (d-prime) under (10, 15, 25, 60) visibility cluster conditions\n",
    "- A c under (10, 15, 25, 60) visibility cluster conditions\n",
    "\n",
    "Once we have this we want to perform a simple hypothesis test.  Is performance, measured by d' higher in the high visibility conditions?  We have strong reason to suspect this is the case but it'll be a nice check of our understanding if we can related the abstract calculation we performed in the previous lab to answer this simple quesiton.\n",
    "\n",
    "Answering this question will push our skills at using pandas to organize our data, and using pingouin to compute a t-test."
   ]
  },
  {
   "cell_type": "markdown",
   "metadata": {},
   "source": [
    "<div class=\"alert alert-info\" role=\"alert\">\n",
    "  <strong>Question 1</strong> <br>\n",
    "    If we compute one $d'$ for each participant for each stimulus conditon and want to compare performance in the two conditions, what type of t-test should we most likely use?\n",
    "</div>"
   ]
  },
  {
   "cell_type": "markdown",
   "metadata": {},
   "source": [
    "The paired t-test."
   ]
  },
  {
   "cell_type": "markdown",
   "metadata": {},
   "source": [
    "<div class=\"alert alert-info\" role=\"alert\">\n",
    "  <strong>Question 2</strong> <br>\n",
    "    To begin we want to read in the data from each participant into a pandas data frame using `pd.read_csv()` and the used `pd.concat()` to combine them.   After you read in the data, inspect the columns and check the data for any inconsistencies that might affect our analysis (e.g., subjects who didn't perform any trials, etc...).\n",
    "</div>"
   ]
  },
  {
   "cell_type": "code",
   "execution_count": 2,
   "metadata": {},
   "outputs": [],
   "source": [
    "import os"
   ]
  },
  {
   "cell_type": "markdown",
   "metadata": {},
   "source": [
    "As a reminder the following show a simple for loop (called a list comprehension) that lets you get the filenames for the lab data set.  You can use this to find the file names that you need to read in with `pd.read_csv()`.  If you need a reminder refer back to your mental rotation lab which should be on your Jupyterhub node still!"
   ]
  },
  {
   "cell_type": "code",
   "execution_count": 3,
   "metadata": {},
   "outputs": [
    {
     "data": {
      "text/plain": [
       "['sdt1-data/sdt-tg35.csv',\n",
       " 'sdt1-data/sdt-fwm229.csv',\n",
       " 'sdt1-data/sdt-kyy230.csv',\n",
       " 'sdt1-data/sdt-srd389.csv',\n",
       " 'sdt1-data/sdt-jwk438.csv',\n",
       " 'sdt1-data/sdt-toa220.csv',\n",
       " 'sdt1-data/sdt-mae475.csv',\n",
       " 'sdt1-data/sdt-wx556.csv',\n",
       " 'sdt1-data/sdt-qc540.csv',\n",
       " 'sdt1-data/sdt-jc8639.csv',\n",
       " 'sdt1-data/sdt-pj787.csv',\n",
       " 'sdt1-data/sdt-ab8200.csv',\n",
       " 'sdt1-data/sdt-aed454.csv',\n",
       " 'sdt1-data/sdt-so1304.csv',\n",
       " 'sdt1-data/sdt-aed457.csv',\n",
       " 'sdt1-data/sdt-djb596.csv',\n",
       " 'sdt1-data/sdt-ipv205.csv',\n",
       " 'sdt1-data/sdt-peo225.csv',\n",
       " 'sdt1-data/sdt-jj2401.csv',\n",
       " 'sdt1-data/sdt-iff207.csv']"
      ]
     },
     "execution_count": 3,
     "metadata": {},
     "output_type": "execute_result"
    }
   ],
   "source": [
    "# this is an example list comprehension which reads in the all the files.\n",
    "# the f.startswith() part just gets rid of any junk files in that folder\n",
    "filenames = [\n",
    "    'sdt1-data/' + f for f in os.listdir('sdt1-data') if not f.startswith('.')\n",
    "]\n",
    "filenames"
   ]
  },
  {
   "cell_type": "code",
   "execution_count": 4,
   "metadata": {},
   "outputs": [
    {
     "name": "stdout",
     "output_type": "stream",
     "text": [
      "3840\n"
     ]
    },
    {
     "data": {
      "text/html": [
       "<div>\n",
       "<style scoped>\n",
       "    .dataframe tbody tr th:only-of-type {\n",
       "        vertical-align: middle;\n",
       "    }\n",
       "\n",
       "    .dataframe tbody tr th {\n",
       "        vertical-align: top;\n",
       "    }\n",
       "\n",
       "    .dataframe thead th {\n",
       "        text-align: right;\n",
       "    }\n",
       "</style>\n",
       "<table border=\"1\" class=\"dataframe\">\n",
       "  <thead>\n",
       "    <tr style=\"text-align: right;\">\n",
       "      <th></th>\n",
       "      <th>signal_present</th>\n",
       "      <th>signal_type</th>\n",
       "      <th>trial_num</th>\n",
       "      <th>button_position</th>\n",
       "      <th>subject_number</th>\n",
       "      <th>responses</th>\n",
       "      <th>rt</th>\n",
       "      <th>correct_resp</th>\n",
       "    </tr>\n",
       "  </thead>\n",
       "  <tbody>\n",
       "    <tr>\n",
       "      <th>0</th>\n",
       "      <td>1</td>\n",
       "      <td>60</td>\n",
       "      <td>0</td>\n",
       "      <td>left</td>\n",
       "      <td>tg35</td>\n",
       "      <td>0</td>\n",
       "      <td>3252.472</td>\n",
       "      <td>0</td>\n",
       "    </tr>\n",
       "    <tr>\n",
       "      <th>1</th>\n",
       "      <td>1</td>\n",
       "      <td>10</td>\n",
       "      <td>1</td>\n",
       "      <td>left</td>\n",
       "      <td>tg35</td>\n",
       "      <td>1</td>\n",
       "      <td>1504.471</td>\n",
       "      <td>1</td>\n",
       "    </tr>\n",
       "    <tr>\n",
       "      <th>2</th>\n",
       "      <td>1</td>\n",
       "      <td>10</td>\n",
       "      <td>2</td>\n",
       "      <td>left</td>\n",
       "      <td>tg35</td>\n",
       "      <td>1</td>\n",
       "      <td>1864.182</td>\n",
       "      <td>1</td>\n",
       "    </tr>\n",
       "    <tr>\n",
       "      <th>3</th>\n",
       "      <td>1</td>\n",
       "      <td>15</td>\n",
       "      <td>3</td>\n",
       "      <td>left</td>\n",
       "      <td>tg35</td>\n",
       "      <td>0</td>\n",
       "      <td>37.681</td>\n",
       "      <td>0</td>\n",
       "    </tr>\n",
       "    <tr>\n",
       "      <th>4</th>\n",
       "      <td>0</td>\n",
       "      <td>0</td>\n",
       "      <td>4</td>\n",
       "      <td>left</td>\n",
       "      <td>tg35</td>\n",
       "      <td>1</td>\n",
       "      <td>168.091</td>\n",
       "      <td>0</td>\n",
       "    </tr>\n",
       "  </tbody>\n",
       "</table>\n",
       "</div>"
      ],
      "text/plain": [
       "   signal_present  signal_type  trial_num button_position subject_number  \\\n",
       "0               1           60          0            left           tg35   \n",
       "1               1           10          1            left           tg35   \n",
       "2               1           10          2            left           tg35   \n",
       "3               1           15          3            left           tg35   \n",
       "4               0            0          4            left           tg35   \n",
       "\n",
       "   responses        rt  correct_resp  \n",
       "0          0  3252.472             0  \n",
       "1          1  1504.471             1  \n",
       "2          1  1864.182             1  \n",
       "3          0    37.681             0  \n",
       "4          1   168.091             0  "
      ]
     },
     "execution_count": 4,
     "metadata": {},
     "output_type": "execute_result"
    }
   ],
   "source": [
    "dfs = []\n",
    "for f in filenames:\n",
    "    dfs.append(pd.read_csv(f))\n",
    "\n",
    "data = pd.concat(dfs, ignore_index=True)\n",
    "data.drop(data.columns[0], axis=1, inplace=True)\n",
    "data.dropna()\n",
    "print(data.shape[0])\n",
    "data.head()"
   ]
  },
  {
   "cell_type": "markdown",
   "metadata": {},
   "source": [
    "<div class=\"alert alert-success\" role=\"alert\">\n",
    "  <strong>Stop and share</strong> <br>\n",
    "  Did you find any interesting or important points about the data that you want to share with the class?  Let's get everyone on the same page so we get similar results so if you find something important (good or bad) please take a moment and share!\n",
    "</div>"
   ]
  },
  {
   "cell_type": "markdown",
   "metadata": {},
   "source": [
    "<div class=\"alert alert-info\" role=\"alert\">\n",
    "  <strong>Question 3</strong> <br>\n",
    "    Now that we have the analysis dataframe let's perform our planned analysis on a single subject.  Create a new dataframe, subselecting from the main frame with the data from a single subject.\n",
    "</div>"
   ]
  },
  {
   "cell_type": "code",
   "execution_count": 5,
   "metadata": {},
   "outputs": [
    {
     "data": {
      "text/html": [
       "<div>\n",
       "<style scoped>\n",
       "    .dataframe tbody tr th:only-of-type {\n",
       "        vertical-align: middle;\n",
       "    }\n",
       "\n",
       "    .dataframe tbody tr th {\n",
       "        vertical-align: top;\n",
       "    }\n",
       "\n",
       "    .dataframe thead th {\n",
       "        text-align: right;\n",
       "    }\n",
       "</style>\n",
       "<table border=\"1\" class=\"dataframe\">\n",
       "  <thead>\n",
       "    <tr style=\"text-align: right;\">\n",
       "      <th></th>\n",
       "      <th>signal_present</th>\n",
       "      <th>signal_type</th>\n",
       "      <th>trial_num</th>\n",
       "      <th>button_position</th>\n",
       "      <th>subject_number</th>\n",
       "      <th>responses</th>\n",
       "      <th>rt</th>\n",
       "      <th>correct_resp</th>\n",
       "    </tr>\n",
       "  </thead>\n",
       "  <tbody>\n",
       "    <tr>\n",
       "      <th>0</th>\n",
       "      <td>1</td>\n",
       "      <td>60</td>\n",
       "      <td>0</td>\n",
       "      <td>left</td>\n",
       "      <td>tg35</td>\n",
       "      <td>0</td>\n",
       "      <td>3252.472</td>\n",
       "      <td>0</td>\n",
       "    </tr>\n",
       "    <tr>\n",
       "      <th>1</th>\n",
       "      <td>1</td>\n",
       "      <td>10</td>\n",
       "      <td>1</td>\n",
       "      <td>left</td>\n",
       "      <td>tg35</td>\n",
       "      <td>1</td>\n",
       "      <td>1504.471</td>\n",
       "      <td>1</td>\n",
       "    </tr>\n",
       "    <tr>\n",
       "      <th>2</th>\n",
       "      <td>1</td>\n",
       "      <td>10</td>\n",
       "      <td>2</td>\n",
       "      <td>left</td>\n",
       "      <td>tg35</td>\n",
       "      <td>1</td>\n",
       "      <td>1864.182</td>\n",
       "      <td>1</td>\n",
       "    </tr>\n",
       "    <tr>\n",
       "      <th>3</th>\n",
       "      <td>1</td>\n",
       "      <td>15</td>\n",
       "      <td>3</td>\n",
       "      <td>left</td>\n",
       "      <td>tg35</td>\n",
       "      <td>0</td>\n",
       "      <td>37.681</td>\n",
       "      <td>0</td>\n",
       "    </tr>\n",
       "    <tr>\n",
       "      <th>4</th>\n",
       "      <td>0</td>\n",
       "      <td>0</td>\n",
       "      <td>4</td>\n",
       "      <td>left</td>\n",
       "      <td>tg35</td>\n",
       "      <td>1</td>\n",
       "      <td>168.091</td>\n",
       "      <td>0</td>\n",
       "    </tr>\n",
       "    <tr>\n",
       "      <th>...</th>\n",
       "      <td>...</td>\n",
       "      <td>...</td>\n",
       "      <td>...</td>\n",
       "      <td>...</td>\n",
       "      <td>...</td>\n",
       "      <td>...</td>\n",
       "      <td>...</td>\n",
       "      <td>...</td>\n",
       "    </tr>\n",
       "    <tr>\n",
       "      <th>195</th>\n",
       "      <td>1</td>\n",
       "      <td>15</td>\n",
       "      <td>195</td>\n",
       "      <td>left</td>\n",
       "      <td>tg35</td>\n",
       "      <td>0</td>\n",
       "      <td>2063.387</td>\n",
       "      <td>0</td>\n",
       "    </tr>\n",
       "    <tr>\n",
       "      <th>196</th>\n",
       "      <td>0</td>\n",
       "      <td>0</td>\n",
       "      <td>196</td>\n",
       "      <td>left</td>\n",
       "      <td>tg35</td>\n",
       "      <td>0</td>\n",
       "      <td>1575.104</td>\n",
       "      <td>1</td>\n",
       "    </tr>\n",
       "    <tr>\n",
       "      <th>197</th>\n",
       "      <td>1</td>\n",
       "      <td>60</td>\n",
       "      <td>197</td>\n",
       "      <td>left</td>\n",
       "      <td>tg35</td>\n",
       "      <td>1</td>\n",
       "      <td>4390.985</td>\n",
       "      <td>1</td>\n",
       "    </tr>\n",
       "    <tr>\n",
       "      <th>198</th>\n",
       "      <td>1</td>\n",
       "      <td>15</td>\n",
       "      <td>198</td>\n",
       "      <td>left</td>\n",
       "      <td>tg35</td>\n",
       "      <td>0</td>\n",
       "      <td>5022.832</td>\n",
       "      <td>0</td>\n",
       "    </tr>\n",
       "    <tr>\n",
       "      <th>199</th>\n",
       "      <td>1</td>\n",
       "      <td>25</td>\n",
       "      <td>199</td>\n",
       "      <td>left</td>\n",
       "      <td>tg35</td>\n",
       "      <td>1</td>\n",
       "      <td>2230.883</td>\n",
       "      <td>1</td>\n",
       "    </tr>\n",
       "  </tbody>\n",
       "</table>\n",
       "<p>200 rows × 8 columns</p>\n",
       "</div>"
      ],
      "text/plain": [
       "     signal_present  signal_type  trial_num button_position subject_number  \\\n",
       "0                 1           60          0            left           tg35   \n",
       "1                 1           10          1            left           tg35   \n",
       "2                 1           10          2            left           tg35   \n",
       "3                 1           15          3            left           tg35   \n",
       "4                 0            0          4            left           tg35   \n",
       "..              ...          ...        ...             ...            ...   \n",
       "195               1           15        195            left           tg35   \n",
       "196               0            0        196            left           tg35   \n",
       "197               1           60        197            left           tg35   \n",
       "198               1           15        198            left           tg35   \n",
       "199               1           25        199            left           tg35   \n",
       "\n",
       "     responses        rt  correct_resp  \n",
       "0            0  3252.472             0  \n",
       "1            1  1504.471             1  \n",
       "2            1  1864.182             1  \n",
       "3            0    37.681             0  \n",
       "4            1   168.091             0  \n",
       "..         ...       ...           ...  \n",
       "195          0  2063.387             0  \n",
       "196          0  1575.104             1  \n",
       "197          1  4390.985             1  \n",
       "198          0  5022.832             0  \n",
       "199          1  2230.883             1  \n",
       "\n",
       "[200 rows x 8 columns]"
      ]
     },
     "execution_count": 5,
     "metadata": {},
     "output_type": "execute_result"
    }
   ],
   "source": [
    "df = data[data['subject_number'] == 'tg35']\n",
    "df"
   ]
  },
  {
   "cell_type": "markdown",
   "metadata": {},
   "source": [
    "<div class=\"alert alert-info\" role=\"alert\">\n",
    "  <strong>Question 4</strong> <br>\n",
    "    Referring back to the first notebook from the lab compute the hits and false alarms for this subject for each stimulus present condition.  One note about the false alarms: remember that false alarms are trials where the stimulus was absent but the subject said it was present.  There is only one type of these trials in the experiment.  So when you compute the statistics you really will create five numbers of this participant.  The hits for each of the stimulus present conditions, and an overall false alarm rate.  What are these numbers for this subject?  Remember also that if you take the `mean()` of a column of 0/1 values it will tell you the proportion of those trials which are 1.\n",
    "</div>"
   ]
  },
  {
   "cell_type": "code",
   "execution_count": 6,
   "metadata": {},
   "outputs": [
    {
     "name": "stdout",
     "output_type": "stream",
     "text": [
      "Hit rate: Stimulus 10 - 0.08, Stimulus 15 - 0.12, Stimulus 25 - 0.44, Stimulus 60 - 0.92\n",
      "Flase alarm rate: 0.03\n"
     ]
    }
   ],
   "source": [
    "hit_10 = df[df.signal_type == 10].responses[df.signal_present == 1].mean()\n",
    "hit_15 = df[df.signal_type == 15].responses[df.signal_present == 1].mean()\n",
    "hit_25 = df[df.signal_type == 25].responses[df.signal_present == 1].mean()\n",
    "hit_60 = df[df.signal_type == 60].responses[df.signal_present == 1].mean()\n",
    "fa = df.responses[df.signal_present == 0].mean()\n",
    "print(\n",
    "    'Hit rate: Stimulus 10 - {:.2f}, Stimulus 15 - {:.2f}, Stimulus 25 - {:.2f}, Stimulus 60 - {:.2f}'\n",
    "    .format(hit_10, hit_15, hit_25, hit_60))\n",
    "print('Flase alarm rate: {:.2f}'.format(fa))"
   ]
  },
  {
   "cell_type": "markdown",
   "metadata": {},
   "source": [
    "<div class=\"alert alert-info\" role=\"alert\">\n",
    "  <strong>Question 5</strong> <br>\n",
    "    Ok now compute the d' and c values for this subject.  Refer back to the previous notebook for reference if you need the equations and python code.  What can you tell from looking at your computed values?  If for some reason you can't compute these values in your experiment (e.g., if the subject has no hits or no false alarms) then try question 4 again with a different subject.\n",
    "</div>"
   ]
  },
  {
   "cell_type": "code",
   "execution_count": 27,
   "metadata": {},
   "outputs": [
    {
     "data": {
      "text/plain": [
       "[0.4757220478416182,\n",
       " 0.7058068160851607,\n",
       " 1.7298243926544739,\n",
       " 3.2858651684608837]"
      ]
     },
     "execution_count": 27,
     "metadata": {},
     "output_type": "execute_result"
    }
   ],
   "source": [
    "d_primes = [\n",
    "    stats.norm.ppf(hit) - stats.norm.ppf(fa)\n",
    "    for hit in [hit_10, hit_15, hit_25, hit_60]\n",
    "]\n",
    "d_primes"
   ]
  },
  {
   "cell_type": "code",
   "execution_count": 11,
   "metadata": {},
   "outputs": [
    {
     "data": {
      "text/plain": [
       "[1.6429325842304419,\n",
       " 1.5278902001086707,\n",
       " 1.0158814118240143,\n",
       " 0.2378610239208091]"
      ]
     },
     "execution_count": 11,
     "metadata": {},
     "output_type": "execute_result"
    }
   ],
   "source": [
    "c = [\n",
    "    -(stats.norm.ppf(hit) + stats.norm.ppf(fa)) / 2.0\n",
    "    for hit in [hit_10, hit_15, hit_25, hit_60]\n",
    "]\n",
    "c"
   ]
  },
  {
   "cell_type": "markdown",
   "metadata": {},
   "source": [
    "We can tell that when signal is easier to detect, i.e. hit rate increases, the $d'$ increases and $c$ decreases."
   ]
  },
  {
   "cell_type": "markdown",
   "metadata": {},
   "source": [
    "<div class=\"alert alert-info\" role=\"alert\">\n",
    "  <strong>Question 6</strong> <br>\n",
    "    Ok, so now you have performed the desired analysis for one subject.  You have computed eight numbers for that subject described above.  Now we want to repeat this for each subject. There are two ways to do this.  One is using the pandas groupby() function.  This is somewhat of the advanced mode version but if you do this you can probably perform the analysis in only 5-6 lines of code.  An alternative approach is to generalize the code you just wrote to use a for loop that iterates over each subject in the data frame.  Which ever way you choose you might find it helpful to refer to the <a href=\"http://gureckislab.org/courses/fall19/labincp/tips/fortyforloops.html\">Forty For Loops</a> notebook I provided which shows some example templates for using for loops to analyze individual subject data in pandas dataframes.  The end result is that you want a dataframe containing the d' and c for each subject for each stimulus condition.\n",
    "</div>"
   ]
  },
  {
   "cell_type": "code",
   "execution_count": 12,
   "metadata": {},
   "outputs": [],
   "source": [
    "d_groupby = data.groupby('subject_number')\n",
    "stimulus_types = [10, 15, 25, 60]"
   ]
  },
  {
   "cell_type": "code",
   "execution_count": 13,
   "metadata": {},
   "outputs": [
    {
     "data": {
      "text/html": [
       "<div>\n",
       "<style scoped>\n",
       "    .dataframe tbody tr th:only-of-type {\n",
       "        vertical-align: middle;\n",
       "    }\n",
       "\n",
       "    .dataframe tbody tr th {\n",
       "        vertical-align: top;\n",
       "    }\n",
       "\n",
       "    .dataframe thead th {\n",
       "        text-align: right;\n",
       "    }\n",
       "</style>\n",
       "<table border=\"1\" class=\"dataframe\">\n",
       "  <thead>\n",
       "    <tr style=\"text-align: right;\">\n",
       "      <th></th>\n",
       "      <th>false_alarm</th>\n",
       "      <th>10_hit</th>\n",
       "      <th>10_d'</th>\n",
       "      <th>10_c</th>\n",
       "      <th>15_hit</th>\n",
       "      <th>15_d'</th>\n",
       "      <th>15_c</th>\n",
       "      <th>25_hit</th>\n",
       "      <th>25_d'</th>\n",
       "      <th>25_c</th>\n",
       "      <th>60_hit</th>\n",
       "      <th>60_d'</th>\n",
       "      <th>60_c</th>\n",
       "    </tr>\n",
       "    <tr>\n",
       "      <th>subject_number</th>\n",
       "      <th></th>\n",
       "      <th></th>\n",
       "      <th></th>\n",
       "      <th></th>\n",
       "      <th></th>\n",
       "      <th></th>\n",
       "      <th></th>\n",
       "      <th></th>\n",
       "      <th></th>\n",
       "      <th></th>\n",
       "      <th></th>\n",
       "      <th></th>\n",
       "      <th></th>\n",
       "    </tr>\n",
       "  </thead>\n",
       "  <tbody>\n",
       "    <tr>\n",
       "      <th>XXX</th>\n",
       "      <td>0.15</td>\n",
       "      <td>0.00</td>\n",
       "      <td>-inf</td>\n",
       "      <td>inf</td>\n",
       "      <td>0.00</td>\n",
       "      <td>-inf</td>\n",
       "      <td>inf</td>\n",
       "      <td>0.75</td>\n",
       "      <td>1.710923</td>\n",
       "      <td>0.180972</td>\n",
       "      <td>NaN</td>\n",
       "      <td>NaN</td>\n",
       "      <td>NaN</td>\n",
       "    </tr>\n",
       "    <tr>\n",
       "      <th>ab8200</th>\n",
       "      <td>0.19</td>\n",
       "      <td>0.16</td>\n",
       "      <td>-0.116562</td>\n",
       "      <td>0.936177</td>\n",
       "      <td>0.56</td>\n",
       "      <td>1.028866</td>\n",
       "      <td>0.363464</td>\n",
       "      <td>0.92</td>\n",
       "      <td>2.282968</td>\n",
       "      <td>-0.263588</td>\n",
       "      <td>1.000</td>\n",
       "      <td>inf</td>\n",
       "      <td>-inf</td>\n",
       "    </tr>\n",
       "    <tr>\n",
       "      <th>aed454</th>\n",
       "      <td>0.13</td>\n",
       "      <td>0.24</td>\n",
       "      <td>0.420089</td>\n",
       "      <td>0.916347</td>\n",
       "      <td>0.56</td>\n",
       "      <td>1.277360</td>\n",
       "      <td>0.487711</td>\n",
       "      <td>1.00</td>\n",
       "      <td>inf</td>\n",
       "      <td>-inf</td>\n",
       "      <td>0.960</td>\n",
       "      <td>2.877077</td>\n",
       "      <td>-0.312147</td>\n",
       "    </tr>\n",
       "    <tr>\n",
       "      <th>aed457</th>\n",
       "      <td>0.72</td>\n",
       "      <td>0.64</td>\n",
       "      <td>-0.224383</td>\n",
       "      <td>-0.470650</td>\n",
       "      <td>0.84</td>\n",
       "      <td>0.411616</td>\n",
       "      <td>-0.788650</td>\n",
       "      <td>0.80</td>\n",
       "      <td>0.258780</td>\n",
       "      <td>-0.712231</td>\n",
       "      <td>1.000</td>\n",
       "      <td>inf</td>\n",
       "      <td>-inf</td>\n",
       "    </tr>\n",
       "    <tr>\n",
       "      <th>djb596</th>\n",
       "      <td>0.18</td>\n",
       "      <td>0.28</td>\n",
       "      <td>0.332524</td>\n",
       "      <td>0.749103</td>\n",
       "      <td>0.36</td>\n",
       "      <td>0.556906</td>\n",
       "      <td>0.636912</td>\n",
       "      <td>0.88</td>\n",
       "      <td>2.090352</td>\n",
       "      <td>-0.129811</td>\n",
       "      <td>0.960</td>\n",
       "      <td>2.666051</td>\n",
       "      <td>-0.417660</td>\n",
       "    </tr>\n",
       "    <tr>\n",
       "      <th>fwm229</th>\n",
       "      <td>0.08</td>\n",
       "      <td>0.16</td>\n",
       "      <td>0.410614</td>\n",
       "      <td>1.199765</td>\n",
       "      <td>0.56</td>\n",
       "      <td>1.556041</td>\n",
       "      <td>0.627051</td>\n",
       "      <td>0.96</td>\n",
       "      <td>3.155758</td>\n",
       "      <td>-0.172807</td>\n",
       "      <td>1.000</td>\n",
       "      <td>inf</td>\n",
       "      <td>-inf</td>\n",
       "    </tr>\n",
       "    <tr>\n",
       "      <th>ipv205</th>\n",
       "      <td>0.13</td>\n",
       "      <td>0.08</td>\n",
       "      <td>-0.278680</td>\n",
       "      <td>1.265731</td>\n",
       "      <td>0.40</td>\n",
       "      <td>0.873044</td>\n",
       "      <td>0.689869</td>\n",
       "      <td>0.80</td>\n",
       "      <td>1.968012</td>\n",
       "      <td>0.142385</td>\n",
       "      <td>1.000</td>\n",
       "      <td>inf</td>\n",
       "      <td>-inf</td>\n",
       "    </tr>\n",
       "    <tr>\n",
       "      <th>jc8639</th>\n",
       "      <td>0.28</td>\n",
       "      <td>0.20</td>\n",
       "      <td>-0.258780</td>\n",
       "      <td>0.712231</td>\n",
       "      <td>0.48</td>\n",
       "      <td>0.532688</td>\n",
       "      <td>0.316498</td>\n",
       "      <td>0.96</td>\n",
       "      <td>2.333528</td>\n",
       "      <td>-0.583922</td>\n",
       "      <td>0.960</td>\n",
       "      <td>2.333528</td>\n",
       "      <td>-0.583922</td>\n",
       "    </tr>\n",
       "    <tr>\n",
       "      <th>jj2401</th>\n",
       "      <td>0.08</td>\n",
       "      <td>0.12</td>\n",
       "      <td>0.230085</td>\n",
       "      <td>1.290029</td>\n",
       "      <td>0.08</td>\n",
       "      <td>0.000000</td>\n",
       "      <td>1.405072</td>\n",
       "      <td>0.04</td>\n",
       "      <td>-0.345615</td>\n",
       "      <td>1.577879</td>\n",
       "      <td>0.400</td>\n",
       "      <td>1.151724</td>\n",
       "      <td>0.829209</td>\n",
       "    </tr>\n",
       "    <tr>\n",
       "      <th>jwk438</th>\n",
       "      <td>0.03</td>\n",
       "      <td>0.00</td>\n",
       "      <td>-inf</td>\n",
       "      <td>inf</td>\n",
       "      <td>0.04</td>\n",
       "      <td>0.130108</td>\n",
       "      <td>1.815740</td>\n",
       "      <td>0.64</td>\n",
       "      <td>2.239252</td>\n",
       "      <td>0.761167</td>\n",
       "      <td>1.000</td>\n",
       "      <td>inf</td>\n",
       "      <td>-inf</td>\n",
       "    </tr>\n",
       "    <tr>\n",
       "      <th>kyy230</th>\n",
       "      <td>0.04</td>\n",
       "      <td>0.12</td>\n",
       "      <td>0.575699</td>\n",
       "      <td>1.462836</td>\n",
       "      <td>0.28</td>\n",
       "      <td>1.167845</td>\n",
       "      <td>1.166764</td>\n",
       "      <td>0.60</td>\n",
       "      <td>2.004033</td>\n",
       "      <td>0.748669</td>\n",
       "      <td>0.880</td>\n",
       "      <td>2.925673</td>\n",
       "      <td>0.287850</td>\n",
       "    </tr>\n",
       "    <tr>\n",
       "      <th>mae475</th>\n",
       "      <td>0.00</td>\n",
       "      <td>0.00</td>\n",
       "      <td>NaN</td>\n",
       "      <td>inf</td>\n",
       "      <td>0.00</td>\n",
       "      <td>NaN</td>\n",
       "      <td>inf</td>\n",
       "      <td>0.24</td>\n",
       "      <td>inf</td>\n",
       "      <td>inf</td>\n",
       "      <td>0.840</td>\n",
       "      <td>inf</td>\n",
       "      <td>inf</td>\n",
       "    </tr>\n",
       "    <tr>\n",
       "      <th>peo225</th>\n",
       "      <td>0.46</td>\n",
       "      <td>0.52</td>\n",
       "      <td>0.150587</td>\n",
       "      <td>0.025140</td>\n",
       "      <td>0.68</td>\n",
       "      <td>0.568133</td>\n",
       "      <td>-0.183633</td>\n",
       "      <td>0.68</td>\n",
       "      <td>0.568133</td>\n",
       "      <td>-0.183633</td>\n",
       "      <td>0.920</td>\n",
       "      <td>1.505505</td>\n",
       "      <td>-0.652319</td>\n",
       "    </tr>\n",
       "    <tr>\n",
       "      <th>pj787</th>\n",
       "      <td>0.03</td>\n",
       "      <td>0.04</td>\n",
       "      <td>0.130108</td>\n",
       "      <td>1.815740</td>\n",
       "      <td>0.24</td>\n",
       "      <td>1.174491</td>\n",
       "      <td>1.293548</td>\n",
       "      <td>0.84</td>\n",
       "      <td>2.875251</td>\n",
       "      <td>0.443168</td>\n",
       "      <td>1.000</td>\n",
       "      <td>inf</td>\n",
       "      <td>-inf</td>\n",
       "    </tr>\n",
       "    <tr>\n",
       "      <th>qc540</th>\n",
       "      <td>0.06</td>\n",
       "      <td>0.00</td>\n",
       "      <td>-inf</td>\n",
       "      <td>inf</td>\n",
       "      <td>0.28</td>\n",
       "      <td>0.971932</td>\n",
       "      <td>1.068808</td>\n",
       "      <td>0.80</td>\n",
       "      <td>2.396395</td>\n",
       "      <td>0.356576</td>\n",
       "      <td>1.000</td>\n",
       "      <td>inf</td>\n",
       "      <td>-inf</td>\n",
       "    </tr>\n",
       "    <tr>\n",
       "      <th>so1304</th>\n",
       "      <td>0.58</td>\n",
       "      <td>0.56</td>\n",
       "      <td>-0.050924</td>\n",
       "      <td>-0.176431</td>\n",
       "      <td>0.60</td>\n",
       "      <td>0.051454</td>\n",
       "      <td>-0.227620</td>\n",
       "      <td>0.44</td>\n",
       "      <td>-0.352863</td>\n",
       "      <td>-0.025462</td>\n",
       "      <td>0.625</td>\n",
       "      <td>0.116746</td>\n",
       "      <td>-0.260266</td>\n",
       "    </tr>\n",
       "    <tr>\n",
       "      <th>srd389</th>\n",
       "      <td>0.03</td>\n",
       "      <td>0.04</td>\n",
       "      <td>0.130108</td>\n",
       "      <td>1.815740</td>\n",
       "      <td>0.24</td>\n",
       "      <td>1.174491</td>\n",
       "      <td>1.293548</td>\n",
       "      <td>0.64</td>\n",
       "      <td>2.239252</td>\n",
       "      <td>0.761167</td>\n",
       "      <td>1.000</td>\n",
       "      <td>inf</td>\n",
       "      <td>-inf</td>\n",
       "    </tr>\n",
       "    <tr>\n",
       "      <th>tg35</th>\n",
       "      <td>0.03</td>\n",
       "      <td>0.08</td>\n",
       "      <td>0.475722</td>\n",
       "      <td>1.642933</td>\n",
       "      <td>0.12</td>\n",
       "      <td>0.705807</td>\n",
       "      <td>1.527890</td>\n",
       "      <td>0.44</td>\n",
       "      <td>1.729824</td>\n",
       "      <td>1.015881</td>\n",
       "      <td>0.920</td>\n",
       "      <td>3.285865</td>\n",
       "      <td>0.237861</td>\n",
       "    </tr>\n",
       "    <tr>\n",
       "      <th>tg3so5</th>\n",
       "      <td>NaN</td>\n",
       "      <td>NaN</td>\n",
       "      <td>NaN</td>\n",
       "      <td>NaN</td>\n",
       "      <td>NaN</td>\n",
       "      <td>NaN</td>\n",
       "      <td>NaN</td>\n",
       "      <td>NaN</td>\n",
       "      <td>NaN</td>\n",
       "      <td>NaN</td>\n",
       "      <td>1.000</td>\n",
       "      <td>NaN</td>\n",
       "      <td>NaN</td>\n",
       "    </tr>\n",
       "    <tr>\n",
       "      <th>toa220</th>\n",
       "      <td>0.05</td>\n",
       "      <td>0.08</td>\n",
       "      <td>0.239782</td>\n",
       "      <td>1.524963</td>\n",
       "      <td>0.24</td>\n",
       "      <td>0.938551</td>\n",
       "      <td>1.175578</td>\n",
       "      <td>0.80</td>\n",
       "      <td>2.486475</td>\n",
       "      <td>0.401616</td>\n",
       "      <td>0.920</td>\n",
       "      <td>3.049925</td>\n",
       "      <td>0.119891</td>\n",
       "    </tr>\n",
       "    <tr>\n",
       "      <th>wx556</th>\n",
       "      <td>0.53</td>\n",
       "      <td>0.48</td>\n",
       "      <td>-0.125423</td>\n",
       "      <td>-0.012558</td>\n",
       "      <td>0.40</td>\n",
       "      <td>-0.328617</td>\n",
       "      <td>0.089039</td>\n",
       "      <td>0.44</td>\n",
       "      <td>-0.226239</td>\n",
       "      <td>0.037850</td>\n",
       "      <td>0.520</td>\n",
       "      <td>-0.025116</td>\n",
       "      <td>-0.062712</td>\n",
       "    </tr>\n",
       "  </tbody>\n",
       "</table>\n",
       "</div>"
      ],
      "text/plain": [
       "                false_alarm  10_hit     10_d'      10_c  15_hit     15_d'  \\\n",
       "subject_number                                                              \n",
       "XXX                    0.15    0.00      -inf       inf    0.00      -inf   \n",
       "ab8200                 0.19    0.16 -0.116562  0.936177    0.56  1.028866   \n",
       "aed454                 0.13    0.24  0.420089  0.916347    0.56  1.277360   \n",
       "aed457                 0.72    0.64 -0.224383 -0.470650    0.84  0.411616   \n",
       "djb596                 0.18    0.28  0.332524  0.749103    0.36  0.556906   \n",
       "fwm229                 0.08    0.16  0.410614  1.199765    0.56  1.556041   \n",
       "ipv205                 0.13    0.08 -0.278680  1.265731    0.40  0.873044   \n",
       "jc8639                 0.28    0.20 -0.258780  0.712231    0.48  0.532688   \n",
       "jj2401                 0.08    0.12  0.230085  1.290029    0.08  0.000000   \n",
       "jwk438                 0.03    0.00      -inf       inf    0.04  0.130108   \n",
       "kyy230                 0.04    0.12  0.575699  1.462836    0.28  1.167845   \n",
       "mae475                 0.00    0.00       NaN       inf    0.00       NaN   \n",
       "peo225                 0.46    0.52  0.150587  0.025140    0.68  0.568133   \n",
       "pj787                  0.03    0.04  0.130108  1.815740    0.24  1.174491   \n",
       "qc540                  0.06    0.00      -inf       inf    0.28  0.971932   \n",
       "so1304                 0.58    0.56 -0.050924 -0.176431    0.60  0.051454   \n",
       "srd389                 0.03    0.04  0.130108  1.815740    0.24  1.174491   \n",
       "tg35                   0.03    0.08  0.475722  1.642933    0.12  0.705807   \n",
       "tg3so5                  NaN     NaN       NaN       NaN     NaN       NaN   \n",
       "toa220                 0.05    0.08  0.239782  1.524963    0.24  0.938551   \n",
       "wx556                  0.53    0.48 -0.125423 -0.012558    0.40 -0.328617   \n",
       "\n",
       "                    15_c  25_hit     25_d'      25_c  60_hit     60_d'  \\\n",
       "subject_number                                                           \n",
       "XXX                  inf    0.75  1.710923  0.180972     NaN       NaN   \n",
       "ab8200          0.363464    0.92  2.282968 -0.263588   1.000       inf   \n",
       "aed454          0.487711    1.00       inf      -inf   0.960  2.877077   \n",
       "aed457         -0.788650    0.80  0.258780 -0.712231   1.000       inf   \n",
       "djb596          0.636912    0.88  2.090352 -0.129811   0.960  2.666051   \n",
       "fwm229          0.627051    0.96  3.155758 -0.172807   1.000       inf   \n",
       "ipv205          0.689869    0.80  1.968012  0.142385   1.000       inf   \n",
       "jc8639          0.316498    0.96  2.333528 -0.583922   0.960  2.333528   \n",
       "jj2401          1.405072    0.04 -0.345615  1.577879   0.400  1.151724   \n",
       "jwk438          1.815740    0.64  2.239252  0.761167   1.000       inf   \n",
       "kyy230          1.166764    0.60  2.004033  0.748669   0.880  2.925673   \n",
       "mae475               inf    0.24       inf       inf   0.840       inf   \n",
       "peo225         -0.183633    0.68  0.568133 -0.183633   0.920  1.505505   \n",
       "pj787           1.293548    0.84  2.875251  0.443168   1.000       inf   \n",
       "qc540           1.068808    0.80  2.396395  0.356576   1.000       inf   \n",
       "so1304         -0.227620    0.44 -0.352863 -0.025462   0.625  0.116746   \n",
       "srd389          1.293548    0.64  2.239252  0.761167   1.000       inf   \n",
       "tg35            1.527890    0.44  1.729824  1.015881   0.920  3.285865   \n",
       "tg3so5               NaN     NaN       NaN       NaN   1.000       NaN   \n",
       "toa220          1.175578    0.80  2.486475  0.401616   0.920  3.049925   \n",
       "wx556           0.089039    0.44 -0.226239  0.037850   0.520 -0.025116   \n",
       "\n",
       "                    60_c  \n",
       "subject_number            \n",
       "XXX                  NaN  \n",
       "ab8200              -inf  \n",
       "aed454         -0.312147  \n",
       "aed457              -inf  \n",
       "djb596         -0.417660  \n",
       "fwm229              -inf  \n",
       "ipv205              -inf  \n",
       "jc8639         -0.583922  \n",
       "jj2401          0.829209  \n",
       "jwk438              -inf  \n",
       "kyy230          0.287850  \n",
       "mae475               inf  \n",
       "peo225         -0.652319  \n",
       "pj787               -inf  \n",
       "qc540               -inf  \n",
       "so1304         -0.260266  \n",
       "srd389              -inf  \n",
       "tg35            0.237861  \n",
       "tg3so5               NaN  \n",
       "toa220          0.119891  \n",
       "wx556          -0.062712  "
      ]
     },
     "execution_count": 13,
     "metadata": {},
     "output_type": "execute_result"
    }
   ],
   "source": [
    "%%capture --no-display\n",
    "\n",
    "results = pd.DataFrame()\n",
    "\n",
    "results['false_alarm'] = d_groupby.apply(\n",
    "    lambda x: x.responses[x.signal_present == 0].mean())\n",
    "for i in stimulus_types:\n",
    "    results[str(i) + '_hit'] = d_groupby.apply(lambda x: x[\n",
    "        x.signal_type == i].responses[x.signal_present == 1].mean())\n",
    "    results[str(i) + '_d\\''] = stats.norm.ppf(\n",
    "        results[str(i) + '_hit']) - stats.norm.ppf(results['false_alarm'])\n",
    "    results[str(i) + '_c'] = -(stats.norm.ppf(results[str(i) + '_hit']) +\n",
    "                               stats.norm.ppf(results['false_alarm'])) / 2.0\n",
    "results_prv = results\n",
    "results"
   ]
  },
  {
   "cell_type": "code",
   "execution_count": 14,
   "metadata": {},
   "outputs": [
    {
     "data": {
      "text/html": [
       "<div>\n",
       "<style scoped>\n",
       "    .dataframe tbody tr th:only-of-type {\n",
       "        vertical-align: middle;\n",
       "    }\n",
       "\n",
       "    .dataframe tbody tr th {\n",
       "        vertical-align: top;\n",
       "    }\n",
       "\n",
       "    .dataframe thead th {\n",
       "        text-align: right;\n",
       "    }\n",
       "</style>\n",
       "<table border=\"1\" class=\"dataframe\">\n",
       "  <thead>\n",
       "    <tr style=\"text-align: right;\">\n",
       "      <th></th>\n",
       "      <th>10_d'</th>\n",
       "      <th>10_c</th>\n",
       "      <th>15_d'</th>\n",
       "      <th>15_c</th>\n",
       "      <th>25_d'</th>\n",
       "      <th>25_c</th>\n",
       "      <th>60_d'</th>\n",
       "      <th>60_c</th>\n",
       "    </tr>\n",
       "    <tr>\n",
       "      <th>subject_number</th>\n",
       "      <th></th>\n",
       "      <th></th>\n",
       "      <th></th>\n",
       "      <th></th>\n",
       "      <th></th>\n",
       "      <th></th>\n",
       "      <th></th>\n",
       "      <th></th>\n",
       "    </tr>\n",
       "  </thead>\n",
       "  <tbody>\n",
       "    <tr>\n",
       "      <th>djb596</th>\n",
       "      <td>0.332524</td>\n",
       "      <td>0.749103</td>\n",
       "      <td>0.556906</td>\n",
       "      <td>0.636912</td>\n",
       "      <td>2.090352</td>\n",
       "      <td>-0.129811</td>\n",
       "      <td>2.666051</td>\n",
       "      <td>-0.417660</td>\n",
       "    </tr>\n",
       "    <tr>\n",
       "      <th>jc8639</th>\n",
       "      <td>-0.258780</td>\n",
       "      <td>0.712231</td>\n",
       "      <td>0.532688</td>\n",
       "      <td>0.316498</td>\n",
       "      <td>2.333528</td>\n",
       "      <td>-0.583922</td>\n",
       "      <td>2.333528</td>\n",
       "      <td>-0.583922</td>\n",
       "    </tr>\n",
       "    <tr>\n",
       "      <th>jj2401</th>\n",
       "      <td>0.230085</td>\n",
       "      <td>1.290029</td>\n",
       "      <td>0.000000</td>\n",
       "      <td>1.405072</td>\n",
       "      <td>-0.345615</td>\n",
       "      <td>1.577879</td>\n",
       "      <td>1.151724</td>\n",
       "      <td>0.829209</td>\n",
       "    </tr>\n",
       "    <tr>\n",
       "      <th>kyy230</th>\n",
       "      <td>0.575699</td>\n",
       "      <td>1.462836</td>\n",
       "      <td>1.167845</td>\n",
       "      <td>1.166764</td>\n",
       "      <td>2.004033</td>\n",
       "      <td>0.748669</td>\n",
       "      <td>2.925673</td>\n",
       "      <td>0.287850</td>\n",
       "    </tr>\n",
       "    <tr>\n",
       "      <th>peo225</th>\n",
       "      <td>0.150587</td>\n",
       "      <td>0.025140</td>\n",
       "      <td>0.568133</td>\n",
       "      <td>-0.183633</td>\n",
       "      <td>0.568133</td>\n",
       "      <td>-0.183633</td>\n",
       "      <td>1.505505</td>\n",
       "      <td>-0.652319</td>\n",
       "    </tr>\n",
       "    <tr>\n",
       "      <th>so1304</th>\n",
       "      <td>-0.050924</td>\n",
       "      <td>-0.176431</td>\n",
       "      <td>0.051454</td>\n",
       "      <td>-0.227620</td>\n",
       "      <td>-0.352863</td>\n",
       "      <td>-0.025462</td>\n",
       "      <td>0.116746</td>\n",
       "      <td>-0.260266</td>\n",
       "    </tr>\n",
       "    <tr>\n",
       "      <th>tg35</th>\n",
       "      <td>0.475722</td>\n",
       "      <td>1.642933</td>\n",
       "      <td>0.705807</td>\n",
       "      <td>1.527890</td>\n",
       "      <td>1.729824</td>\n",
       "      <td>1.015881</td>\n",
       "      <td>3.285865</td>\n",
       "      <td>0.237861</td>\n",
       "    </tr>\n",
       "    <tr>\n",
       "      <th>toa220</th>\n",
       "      <td>0.239782</td>\n",
       "      <td>1.524963</td>\n",
       "      <td>0.938551</td>\n",
       "      <td>1.175578</td>\n",
       "      <td>2.486475</td>\n",
       "      <td>0.401616</td>\n",
       "      <td>3.049925</td>\n",
       "      <td>0.119891</td>\n",
       "    </tr>\n",
       "    <tr>\n",
       "      <th>wx556</th>\n",
       "      <td>-0.125423</td>\n",
       "      <td>-0.012558</td>\n",
       "      <td>-0.328617</td>\n",
       "      <td>0.089039</td>\n",
       "      <td>-0.226239</td>\n",
       "      <td>0.037850</td>\n",
       "      <td>-0.025116</td>\n",
       "      <td>-0.062712</td>\n",
       "    </tr>\n",
       "  </tbody>\n",
       "</table>\n",
       "</div>"
      ],
      "text/plain": [
       "                   10_d'      10_c     15_d'      15_c     25_d'      25_c  \\\n",
       "subject_number                                                               \n",
       "djb596          0.332524  0.749103  0.556906  0.636912  2.090352 -0.129811   \n",
       "jc8639         -0.258780  0.712231  0.532688  0.316498  2.333528 -0.583922   \n",
       "jj2401          0.230085  1.290029  0.000000  1.405072 -0.345615  1.577879   \n",
       "kyy230          0.575699  1.462836  1.167845  1.166764  2.004033  0.748669   \n",
       "peo225          0.150587  0.025140  0.568133 -0.183633  0.568133 -0.183633   \n",
       "so1304         -0.050924 -0.176431  0.051454 -0.227620 -0.352863 -0.025462   \n",
       "tg35            0.475722  1.642933  0.705807  1.527890  1.729824  1.015881   \n",
       "toa220          0.239782  1.524963  0.938551  1.175578  2.486475  0.401616   \n",
       "wx556          -0.125423 -0.012558 -0.328617  0.089039 -0.226239  0.037850   \n",
       "\n",
       "                   60_d'      60_c  \n",
       "subject_number                      \n",
       "djb596          2.666051 -0.417660  \n",
       "jc8639          2.333528 -0.583922  \n",
       "jj2401          1.151724  0.829209  \n",
       "kyy230          2.925673  0.287850  \n",
       "peo225          1.505505 -0.652319  \n",
       "so1304          0.116746 -0.260266  \n",
       "tg35            3.285865  0.237861  \n",
       "toa220          3.049925  0.119891  \n",
       "wx556          -0.025116 -0.062712  "
      ]
     },
     "execution_count": 14,
     "metadata": {},
     "output_type": "execute_result"
    }
   ],
   "source": [
    "results.replace([np.inf, -np.inf], np.nan, inplace=True)\n",
    "results = results.filter(regex=(\"(_d)|(_c)\")).dropna()\n",
    "results"
   ]
  },
  {
   "cell_type": "markdown",
   "metadata": {},
   "source": [
    "<div class=\"alert alert-info\" role=\"alert\">\n",
    "  <strong>Question 7</strong> <br>\n",
    "    Now that you have your summary statistics computed, our next step is to ask if the conditions are different on either the d' or c measure.  For now concentrate on the easiest and hardest conditions to see if there is a effect in the most dissimilar conditions.  Then compare the hardest and second hardest conditions. Conduct the appropriate t-test to tell if these conditions are different.  The chapter reading from this week has all the code you need.  However you might find it helpful to refer to the pingouin documentation for the <a href=\"https://pingouin-stats.org/generated/pingouin.ttest.html#pingouin.ttest\">t-test function</a>.\n",
    "</div>"
   ]
  },
  {
   "cell_type": "code",
   "execution_count": 15,
   "metadata": {},
   "outputs": [
    {
     "data": {
      "text/html": [
       "<div>\n",
       "<style scoped>\n",
       "    .dataframe tbody tr th:only-of-type {\n",
       "        vertical-align: middle;\n",
       "    }\n",
       "\n",
       "    .dataframe tbody tr th {\n",
       "        vertical-align: top;\n",
       "    }\n",
       "\n",
       "    .dataframe thead th {\n",
       "        text-align: right;\n",
       "    }\n",
       "</style>\n",
       "<table border=\"1\" class=\"dataframe\">\n",
       "  <thead>\n",
       "    <tr style=\"text-align: right;\">\n",
       "      <th></th>\n",
       "      <th>T</th>\n",
       "      <th>dof</th>\n",
       "      <th>tail</th>\n",
       "      <th>p-val</th>\n",
       "      <th>CI95%</th>\n",
       "      <th>cohen-d</th>\n",
       "      <th>BF10</th>\n",
       "      <th>power</th>\n",
       "    </tr>\n",
       "  </thead>\n",
       "  <tbody>\n",
       "    <tr>\n",
       "      <th>T-test</th>\n",
       "      <td>-4.670626</td>\n",
       "      <td>8</td>\n",
       "      <td>two-sided</td>\n",
       "      <td>0.001601</td>\n",
       "      <td>[-2.56, -0.87]</td>\n",
       "      <td>1.882893</td>\n",
       "      <td>27.931</td>\n",
       "      <td>0.998302</td>\n",
       "    </tr>\n",
       "  </tbody>\n",
       "</table>\n",
       "</div>"
      ],
      "text/plain": [
       "               T  dof       tail     p-val           CI95%   cohen-d    BF10  \\\n",
       "T-test -4.670626    8  two-sided  0.001601  [-2.56, -0.87]  1.882893  27.931   \n",
       "\n",
       "           power  \n",
       "T-test  0.998302  "
      ]
     },
     "execution_count": 15,
     "metadata": {},
     "output_type": "execute_result"
    }
   ],
   "source": [
    "pg.ttest(x=results['10_d\\''], y=results['60_d\\''], paired=True)"
   ]
  },
  {
   "cell_type": "code",
   "execution_count": 16,
   "metadata": {},
   "outputs": [
    {
     "data": {
      "text/html": [
       "<div>\n",
       "<style scoped>\n",
       "    .dataframe tbody tr th:only-of-type {\n",
       "        vertical-align: middle;\n",
       "    }\n",
       "\n",
       "    .dataframe tbody tr th {\n",
       "        vertical-align: top;\n",
       "    }\n",
       "\n",
       "    .dataframe thead th {\n",
       "        text-align: right;\n",
       "    }\n",
       "</style>\n",
       "<table border=\"1\" class=\"dataframe\">\n",
       "  <thead>\n",
       "    <tr style=\"text-align: right;\">\n",
       "      <th></th>\n",
       "      <th>T</th>\n",
       "      <th>dof</th>\n",
       "      <th>tail</th>\n",
       "      <th>p-val</th>\n",
       "      <th>CI95%</th>\n",
       "      <th>cohen-d</th>\n",
       "      <th>BF10</th>\n",
       "      <th>power</th>\n",
       "    </tr>\n",
       "  </thead>\n",
       "  <tbody>\n",
       "    <tr>\n",
       "      <th>T-test</th>\n",
       "      <td>-2.364851</td>\n",
       "      <td>8</td>\n",
       "      <td>two-sided</td>\n",
       "      <td>0.045612</td>\n",
       "      <td>[-1.34, -0.02]</td>\n",
       "      <td>0.732348</td>\n",
       "      <td>1.956</td>\n",
       "      <td>0.488951</td>\n",
       "    </tr>\n",
       "  </tbody>\n",
       "</table>\n",
       "</div>"
      ],
      "text/plain": [
       "               T  dof       tail     p-val           CI95%   cohen-d   BF10  \\\n",
       "T-test -2.364851    8  two-sided  0.045612  [-1.34, -0.02]  0.732348  1.956   \n",
       "\n",
       "           power  \n",
       "T-test  0.488951  "
      ]
     },
     "execution_count": 16,
     "metadata": {},
     "output_type": "execute_result"
    }
   ],
   "source": [
    "pg.ttest(x=results['15_d\\''], y=results['25_d\\''], paired=True)"
   ]
  },
  {
   "cell_type": "code",
   "execution_count": 23,
   "metadata": {},
   "outputs": [
    {
     "data": {
      "text/html": [
       "<div>\n",
       "<style scoped>\n",
       "    .dataframe tbody tr th:only-of-type {\n",
       "        vertical-align: middle;\n",
       "    }\n",
       "\n",
       "    .dataframe tbody tr th {\n",
       "        vertical-align: top;\n",
       "    }\n",
       "\n",
       "    .dataframe thead th {\n",
       "        text-align: right;\n",
       "    }\n",
       "</style>\n",
       "<table border=\"1\" class=\"dataframe\">\n",
       "  <thead>\n",
       "    <tr style=\"text-align: right;\">\n",
       "      <th></th>\n",
       "      <th>T</th>\n",
       "      <th>dof</th>\n",
       "      <th>tail</th>\n",
       "      <th>p-val</th>\n",
       "      <th>CI95%</th>\n",
       "      <th>cohen-d</th>\n",
       "      <th>BF10</th>\n",
       "      <th>power</th>\n",
       "    </tr>\n",
       "  </thead>\n",
       "  <tbody>\n",
       "    <tr>\n",
       "      <th>T-test</th>\n",
       "      <td>4.670626</td>\n",
       "      <td>8</td>\n",
       "      <td>two-sided</td>\n",
       "      <td>0.001601</td>\n",
       "      <td>[0.43, 1.28]</td>\n",
       "      <td>1.404799</td>\n",
       "      <td>27.931</td>\n",
       "      <td>0.95649</td>\n",
       "    </tr>\n",
       "  </tbody>\n",
       "</table>\n",
       "</div>"
      ],
      "text/plain": [
       "               T  dof       tail     p-val         CI95%   cohen-d    BF10  \\\n",
       "T-test  4.670626    8  two-sided  0.001601  [0.43, 1.28]  1.404799  27.931   \n",
       "\n",
       "          power  \n",
       "T-test  0.95649  "
      ]
     },
     "execution_count": 23,
     "metadata": {},
     "output_type": "execute_result"
    }
   ],
   "source": [
    "pg.ttest(x=results['10_c'], y=results['60_c'], paired=True)"
   ]
  },
  {
   "cell_type": "code",
   "execution_count": 22,
   "metadata": {},
   "outputs": [
    {
     "data": {
      "text/html": [
       "<div>\n",
       "<style scoped>\n",
       "    .dataframe tbody tr th:only-of-type {\n",
       "        vertical-align: middle;\n",
       "    }\n",
       "\n",
       "    .dataframe tbody tr th {\n",
       "        vertical-align: top;\n",
       "    }\n",
       "\n",
       "    .dataframe thead th {\n",
       "        text-align: right;\n",
       "    }\n",
       "</style>\n",
       "<table border=\"1\" class=\"dataframe\">\n",
       "  <thead>\n",
       "    <tr style=\"text-align: right;\">\n",
       "      <th></th>\n",
       "      <th>T</th>\n",
       "      <th>dof</th>\n",
       "      <th>tail</th>\n",
       "      <th>p-val</th>\n",
       "      <th>CI95%</th>\n",
       "      <th>cohen-d</th>\n",
       "      <th>BF10</th>\n",
       "      <th>power</th>\n",
       "    </tr>\n",
       "  </thead>\n",
       "  <tbody>\n",
       "    <tr>\n",
       "      <th>T-test</th>\n",
       "      <td>2.364851</td>\n",
       "      <td>8</td>\n",
       "      <td>two-sided</td>\n",
       "      <td>0.045612</td>\n",
       "      <td>[0.01, 0.67]</td>\n",
       "      <td>0.494435</td>\n",
       "      <td>1.956</td>\n",
       "      <td>0.258029</td>\n",
       "    </tr>\n",
       "  </tbody>\n",
       "</table>\n",
       "</div>"
      ],
      "text/plain": [
       "               T  dof       tail     p-val         CI95%   cohen-d   BF10  \\\n",
       "T-test  2.364851    8  two-sided  0.045612  [0.01, 0.67]  0.494435  1.956   \n",
       "\n",
       "           power  \n",
       "T-test  0.258029  "
      ]
     },
     "execution_count": 22,
     "metadata": {},
     "output_type": "execute_result"
    }
   ],
   "source": [
    "pg.ttest(x=results['15_c'], y=results['25_c'], paired=True)"
   ]
  },
  {
   "cell_type": "markdown",
   "metadata": {},
   "source": [
    "We reject both of the null hypothesis and both of the differences between the conditions are significant."
   ]
  },
  {
   "cell_type": "markdown",
   "metadata": {},
   "source": [
    "<div class=\"alert alert-info\" role=\"alert\">\n",
    "  <strong>Question 8 (BONUS)</strong> <br>\n",
    "    This question is a bonus but asks you to verify the assumptions of the chosen t-test hold.  Usually this involves looking to see that the distribution of scores you are analyzing are roughly \"normally\" distributed.  The textbook showed a few example way to check including the histogram, the qqplot, and the Shapiro-Wilks test.  Perform this test on your data.  If the data seem very non-normal you might consider switching your t-test to the non-parametric alternative discussed in the chapter (the Wilcoxon or Mann-Whitney test).\n",
    "</div>"
   ]
  },
  {
   "cell_type": "markdown",
   "metadata": {},
   "source": [
    "**Plot $d'$**"
   ]
  },
  {
   "cell_type": "code",
   "execution_count": 17,
   "metadata": {},
   "outputs": [
    {
     "data": {
      "image/png": "[encoded data removed]",
      "text/plain": [
       "<Figure size 432x288 with 1 Axes>"
      ]
     },
     "metadata": {
      "needs_background": "light"
     },
     "output_type": "display_data"
    }
   ],
   "source": [
    "%%capture --no-display\n",
    "\n",
    "for x in ['10_d\\'', '15_d\\'', '25_d\\'', '60_d\\'']:\n",
    "    sns.distplot(results[x], hist=False)\n",
    "plt.legend(['10_d\\'', '15_d\\'', '25_d\\'', '60_d\\''])\n",
    "plt.xlabel('d\\'')\n",
    "plt.show()"
   ]
  },
  {
   "cell_type": "markdown",
   "metadata": {},
   "source": [
    "**Plot $c$**"
   ]
  },
  {
   "cell_type": "code",
   "execution_count": 24,
   "metadata": {},
   "outputs": [
    {
     "data": {
      "image/png": "[encoded data removed]",
      "text/plain": [
       "<Figure size 432x288 with 1 Axes>"
      ]
     },
     "metadata": {
      "needs_background": "light"
     },
     "output_type": "display_data"
    }
   ],
   "source": [
    "%%capture --no-display\n",
    "\n",
    "for x in ['10_c', '15_c', '25_c', '60_c']:\n",
    "    sns.distplot(results[x], hist=False)\n",
    "plt.legend(['10_c', '15_c', '25_c', '60_c'])\n",
    "plt.xlabel('c')\n",
    "plt.show()"
   ]
  },
  {
   "cell_type": "markdown",
   "metadata": {},
   "source": [
    "**Shapiro-Wilks Test for $d'$**"
   ]
  },
  {
   "cell_type": "code",
   "execution_count": 18,
   "metadata": {},
   "outputs": [
    {
     "data": {
      "text/html": [
       "<div>\n",
       "<style scoped>\n",
       "    .dataframe tbody tr th:only-of-type {\n",
       "        vertical-align: middle;\n",
       "    }\n",
       "\n",
       "    .dataframe tbody tr th {\n",
       "        vertical-align: top;\n",
       "    }\n",
       "\n",
       "    .dataframe thead th {\n",
       "        text-align: right;\n",
       "    }\n",
       "</style>\n",
       "<table border=\"1\" class=\"dataframe\">\n",
       "  <thead>\n",
       "    <tr style=\"text-align: right;\">\n",
       "      <th></th>\n",
       "      <th>10_d'</th>\n",
       "      <th>15_d'</th>\n",
       "      <th>25_d'</th>\n",
       "      <th>60_d'</th>\n",
       "    </tr>\n",
       "  </thead>\n",
       "  <tbody>\n",
       "    <tr>\n",
       "      <th>statistics</th>\n",
       "      <td>0.968668</td>\n",
       "      <td>0.956507</td>\n",
       "      <td>0.828829</td>\n",
       "      <td>0.892160</td>\n",
       "    </tr>\n",
       "    <tr>\n",
       "      <th>pvalue</th>\n",
       "      <td>0.883103</td>\n",
       "      <td>0.761149</td>\n",
       "      <td>0.043324</td>\n",
       "      <td>0.209966</td>\n",
       "    </tr>\n",
       "  </tbody>\n",
       "</table>\n",
       "</div>"
      ],
      "text/plain": [
       "               10_d'     15_d'     25_d'     60_d'\n",
       "statistics  0.968668  0.956507  0.828829  0.892160\n",
       "pvalue      0.883103  0.761149  0.043324  0.209966"
      ]
     },
     "execution_count": 18,
     "metadata": {},
     "output_type": "execute_result"
    }
   ],
   "source": [
    "results.filter(regex=('_d')).apply(stats.shapiro).rename(index={\n",
    "    0: 'statistics',\n",
    "    1: 'pvalue'\n",
    "})"
   ]
  },
  {
   "cell_type": "markdown",
   "metadata": {},
   "source": [
    "**Shapiro-Wilks Test for $c$**"
   ]
  },
  {
   "cell_type": "code",
   "execution_count": 25,
   "metadata": {},
   "outputs": [
    {
     "data": {
      "text/html": [
       "<div>\n",
       "<style scoped>\n",
       "    .dataframe tbody tr th:only-of-type {\n",
       "        vertical-align: middle;\n",
       "    }\n",
       "\n",
       "    .dataframe tbody tr th {\n",
       "        vertical-align: top;\n",
       "    }\n",
       "\n",
       "    .dataframe thead th {\n",
       "        text-align: right;\n",
       "    }\n",
       "</style>\n",
       "<table border=\"1\" class=\"dataframe\">\n",
       "  <thead>\n",
       "    <tr style=\"text-align: right;\">\n",
       "      <th></th>\n",
       "      <th>10_c</th>\n",
       "      <th>15_c</th>\n",
       "      <th>25_c</th>\n",
       "      <th>60_c</th>\n",
       "    </tr>\n",
       "  </thead>\n",
       "  <tbody>\n",
       "    <tr>\n",
       "      <th>statistics</th>\n",
       "      <td>0.880680</td>\n",
       "      <td>0.901517</td>\n",
       "      <td>0.944075</td>\n",
       "      <td>0.955498</td>\n",
       "    </tr>\n",
       "    <tr>\n",
       "      <th>pvalue</th>\n",
       "      <td>0.159627</td>\n",
       "      <td>0.260922</td>\n",
       "      <td>0.625388</td>\n",
       "      <td>0.750228</td>\n",
       "    </tr>\n",
       "  </tbody>\n",
       "</table>\n",
       "</div>"
      ],
      "text/plain": [
       "                10_c      15_c      25_c      60_c\n",
       "statistics  0.880680  0.901517  0.944075  0.955498\n",
       "pvalue      0.159627  0.260922  0.625388  0.750228"
      ]
     },
     "execution_count": 25,
     "metadata": {},
     "output_type": "execute_result"
    }
   ],
   "source": [
    "results.filter(regex=('_c')).apply(stats.shapiro).rename(index={\n",
    "    0: 'statistics',\n",
    "    1: 'pvalue'\n",
    "})"
   ]
  },
  {
   "cell_type": "markdown",
   "metadata": {},
   "source": [
    "We reject the null hypothesis that the data from `25_d'` are normally distributed and we can tell that the data from `60_d` are also not well normally distributed. We can run a Mann-Whitney U Test on these comparisons. For $c$, the data from all conditions are normally distributed."
   ]
  },
  {
   "cell_type": "code",
   "execution_count": 19,
   "metadata": {},
   "outputs": [
    {
     "data": {
      "text/html": [
       "<div>\n",
       "<style scoped>\n",
       "    .dataframe tbody tr th:only-of-type {\n",
       "        vertical-align: middle;\n",
       "    }\n",
       "\n",
       "    .dataframe tbody tr th {\n",
       "        vertical-align: top;\n",
       "    }\n",
       "\n",
       "    .dataframe thead th {\n",
       "        text-align: right;\n",
       "    }\n",
       "</style>\n",
       "<table border=\"1\" class=\"dataframe\">\n",
       "  <thead>\n",
       "    <tr style=\"text-align: right;\">\n",
       "      <th></th>\n",
       "      <th>U-val</th>\n",
       "      <th>tail</th>\n",
       "      <th>p-val</th>\n",
       "      <th>RBC</th>\n",
       "      <th>CLES</th>\n",
       "    </tr>\n",
       "  </thead>\n",
       "  <tbody>\n",
       "    <tr>\n",
       "      <th>MWU</th>\n",
       "      <td>12.0</td>\n",
       "      <td>two-sided</td>\n",
       "      <td>0.013419</td>\n",
       "      <td>0.703704</td>\n",
       "      <td>0.148148</td>\n",
       "    </tr>\n",
       "  </tbody>\n",
       "</table>\n",
       "</div>"
      ],
      "text/plain": [
       "     U-val       tail     p-val       RBC      CLES\n",
       "MWU   12.0  two-sided  0.013419  0.703704  0.148148"
      ]
     },
     "execution_count": 19,
     "metadata": {},
     "output_type": "execute_result"
    }
   ],
   "source": [
    "pg.mwu(x=results['10_d\\''], y=results['60_d\\''])"
   ]
  },
  {
   "cell_type": "code",
   "execution_count": 20,
   "metadata": {},
   "outputs": [
    {
     "data": {
      "text/html": [
       "<div>\n",
       "<style scoped>\n",
       "    .dataframe tbody tr th:only-of-type {\n",
       "        vertical-align: middle;\n",
       "    }\n",
       "\n",
       "    .dataframe tbody tr th {\n",
       "        vertical-align: top;\n",
       "    }\n",
       "\n",
       "    .dataframe thead th {\n",
       "        text-align: right;\n",
       "    }\n",
       "</style>\n",
       "<table border=\"1\" class=\"dataframe\">\n",
       "  <thead>\n",
       "    <tr style=\"text-align: right;\">\n",
       "      <th></th>\n",
       "      <th>U-val</th>\n",
       "      <th>tail</th>\n",
       "      <th>p-val</th>\n",
       "      <th>RBC</th>\n",
       "      <th>CLES</th>\n",
       "    </tr>\n",
       "  </thead>\n",
       "  <tbody>\n",
       "    <tr>\n",
       "      <th>MWU</th>\n",
       "      <td>29.5</td>\n",
       "      <td>two-sided</td>\n",
       "      <td>0.353588</td>\n",
       "      <td>0.271605</td>\n",
       "      <td>0.364198</td>\n",
       "    </tr>\n",
       "  </tbody>\n",
       "</table>\n",
       "</div>"
      ],
      "text/plain": [
       "     U-val       tail     p-val       RBC      CLES\n",
       "MWU   29.5  two-sided  0.353588  0.271605  0.364198"
      ]
     },
     "execution_count": 20,
     "metadata": {},
     "output_type": "execute_result"
    }
   ],
   "source": [
    "pg.mwu(x=results['15_d\\''], y=results['25_d\\''])"
   ]
  },
  {
   "cell_type": "markdown",
   "metadata": {},
   "source": [
    "We can tell that our first comparison still yields significant results while the second one, comparing `15_d'` and `25_d'`, is no longer significant."
   ]
  },
  {
   "cell_type": "markdown",
   "metadata": {},
   "source": [
    "<div class=\"alert alert-info\" role=\"alert\">\n",
    "  <strong>Question 9</strong> <br>\n",
    "  OK great job!  You have your data, you have your t-test, you have everything you need to answer the following questions: 1. Is performance higher in the low number of dots or high number of dots condition?  How do you know? 2. How would you report the statistical evidence in favor of your conclusion in a paper? 3. Is the criterion different between the conditions?  How do you know? 4. Overall was performance high or low in this task?\n",
    "</div>"
   ]
  },
  {
   "cell_type": "markdown",
   "metadata": {},
   "source": [
    "1. The performance becomes better as the stimulus has more dots, which can be inferred from the increasing $d'$.\n",
    "2. We conducted two Mann-Whitney U Tests to compare the standardized differences between the means of performances in different stimulus conditions, and we found that subjects perform significantly better in 60-dot condition than in 10-dot ($U=12, p<0.05$). Thus, we reject the null hypothesis that the participants perform the same across conditions. However, we failed to report significance when comparing 15-dot with 25-dot conditions ($U=29.5, p>0.05$).\n",
    "3. The criterion IS changing between the conditions, as we rejected the null in t-tests for both comparisons.\n",
    "4. People performed fine in 25-dot and 60-dot conditions and worse in 10-dot and 15-dot conditions."
   ]
  },
  {
   "cell_type": "markdown",
   "metadata": {},
   "source": [
    "<div class=\"alert alert-info\" role=\"alert\">\n",
    "  <strong>Question 10</strong> <br>\n",
    "  The final question asks you to consider limitations to this experiment design.  What other analyses might be interesting to perform on this data?  If you could change the experiment is there another type of question you would ask?\n",
    "</div>"
   ]
  },
  {
   "cell_type": "markdown",
   "metadata": {},
   "source": [
    "I would add more stimulus conditions for deriving the psychometric curve of this task. I would also investigate the performance change and criterion shift as a function of stimulus conditions instead of just getting the significance."
   ]
  }
 ],
 "metadata": {
  "kernel_info": {
   "name": "python3"
  },
  "kernelspec": {
   "display_name": "cognition_env",
   "language": "python",
   "name": "cognition_env"
  },
  "language_info": {
   "codemirror_mode": {
    "name": "ipython",
    "version": 3
   },
   "file_extension": ".py",
   "mimetype": "text/x-python",
   "name": "python",
   "nbconvert_exporter": "python",
   "pygments_lexer": "ipython3",
   "version": "3.8.5"
  },
  "nteract": {
   "version": "0.15.0"
  },
  "toc": {
   "base_numbering": 1,
   "nav_menu": {},
   "number_sections": true,
   "sideBar": true,
   "skip_h1_title": false,
   "title_cell": "Table of Contents",
   "title_sidebar": "Contents",
   "toc_cell": false,
   "toc_position": {},
   "toc_section_display": true,
   "toc_window_display": false
  }
 },
 "nbformat": 4,
 "nbformat_minor": 1
}
